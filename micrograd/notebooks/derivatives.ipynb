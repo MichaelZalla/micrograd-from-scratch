{
 "cells": [
  {
   "cell_type": "code",
   "execution_count": 156,
   "id": "c36a4719-9a7d-4046-9d93-8a446f812f42",
   "metadata": {},
   "outputs": [],
   "source": [
    "import math\n",
    "import random\n",
    "import pprint\n",
    "import numpy as np\n",
    "import matplotlib.pyplot as plt\n",
    "%matplotlib inline\n",
    "\n",
    "import torch\n",
    "\n",
    "pp = pprint.PrettyPrinter(indent=4)"
   ]
  },
  {
   "cell_type": "code",
   "execution_count": 4,
   "id": "5e1a8464-8a3c-4e3b-8fbb-786c28357b45",
   "metadata": {},
   "outputs": [],
   "source": [
    "def f(x):\n",
    "    return 3*x**2 - 4*x + 5"
   ]
  },
  {
   "cell_type": "code",
   "execution_count": 5,
   "id": "8e2aa79a-3cff-42db-b5dc-7f5699984fd1",
   "metadata": {},
   "outputs": [
    {
     "data": {
      "text/plain": [
       "20.0"
      ]
     },
     "execution_count": 5,
     "metadata": {},
     "output_type": "execute_result"
    }
   ],
   "source": [
    "f(3.0)"
   ]
  },
  {
   "cell_type": "code",
   "execution_count": 6,
   "id": "76e7f15a-23ca-484b-95ec-f8b9ee3d209f",
   "metadata": {},
   "outputs": [],
   "source": [
    "xs = np.arange(-5, 5, 0.25)"
   ]
  },
  {
   "cell_type": "code",
   "execution_count": 7,
   "id": "21daadd0-e28b-4d7f-99af-54648a25c511",
   "metadata": {},
   "outputs": [],
   "source": [
    "ys = f(xs)"
   ]
  },
  {
   "cell_type": "code",
   "execution_count": 8,
   "id": "53fcf593-a403-49ee-a64e-7bcfce63d39a",
   "metadata": {},
   "outputs": [
    {
     "data": {
      "text/plain": [
       "[<matplotlib.lines.Line2D at 0x10f2d5040>]"
      ]
     },
     "execution_count": 8,
     "metadata": {},
     "output_type": "execute_result"
    },
    {
     "data": {
      "image/png": "[encoded data removed]",
      "text/plain": [
       "<Figure size 432x288 with 1 Axes>"
      ]
     },
     "metadata": {
      "needs_background": "light"
     },
     "output_type": "display_data"
    }
   ],
   "source": [
    "plt.plot(xs, ys)"
   ]
  },
  {
   "cell_type": "code",
   "execution_count": 9,
   "id": "b6b48c07-0971-4ee9-932c-c31a4cb73a60",
   "metadata": {},
   "outputs": [
    {
     "data": {
      "text/plain": [
       "0.0"
      ]
     },
     "execution_count": 9,
     "metadata": {},
     "output_type": "execute_result"
    }
   ],
   "source": [
    "h = 0.000000001\n",
    "x = 2/3\n",
    "(f(x + h) - f(x))/h"
   ]
  },
  {
   "cell_type": "code",
   "execution_count": 10,
   "id": "9f5ee8ff-1b71-4d7d-b427-46014a414ca1",
   "metadata": {},
   "outputs": [],
   "source": [
    "# let's get more complex"
   ]
  },
  {
   "cell_type": "code",
   "execution_count": 11,
   "id": "0e172a65-a03e-4860-8dc5-d23d735a4d44",
   "metadata": {},
   "outputs": [
    {
     "name": "stdout",
     "output_type": "stream",
     "text": [
      "4.0\n"
     ]
    }
   ],
   "source": [
    "a = 2.0\n",
    "b = -3.0\n",
    "c = 10.0\n",
    "d = a * b + c\n",
    "print(d)"
   ]
  },
  {
   "cell_type": "code",
   "execution_count": 12,
   "id": "57112fd7-bf5c-4ec6-8eea-46d6cf629406",
   "metadata": {},
   "outputs": [
    {
     "name": "stdout",
     "output_type": "stream",
     "text": [
      "d1 4.0\n",
      "d2 4.0001\n",
      "slope 99999.99999976694\n"
     ]
    }
   ],
   "source": [
    "# step size (testing the derivative w.r.t the input 'a')\n",
    "step_size = 0.0001\n",
    "\n",
    "# first sample\n",
    "d1 = a*b + c\n",
    "\n",
    "# Step one of our variables\n",
    "# a += step_size # to get our derivative w.r.t. `a`\n",
    "# b += step_size # to get our derivative w.r.t. `b`\n",
    "c += step_size # to get our derivative w.r.t. `c`\n",
    "\n",
    "# second sample\n",
    "d2 = a*b + c\n",
    "\n",
    "print('d1', d1)\n",
    "print('d2', d2)\n",
    "print('slope', (d2 - d1) / h)  "
   ]
  },
  {
   "cell_type": "code",
   "execution_count": 201,
   "id": "1c2b58ba-63c1-48de-83e1-bd493472a2f2",
   "metadata": {},
   "outputs": [
    {
     "name": "stdout",
     "output_type": "stream",
     "text": [
      "0.9999999999976694\n"
     ]
    }
   ],
   "source": [
    "class Value:\n",
    "    \n",
    "    def __init__(self, data, _children=(), _op='', label=''):\n",
    "        \n",
    "        self.label = label\n",
    "        self.data = data\n",
    "        self.grad = 0.0\n",
    "        \n",
    "        self._prev = set(_children)\n",
    "        self._op = _op\n",
    "        self._backward = lambda: None\n",
    "        \n",
    "    def __repr__(self):\n",
    "        return f\"Value({self.label}, data={self.data}, grad={self.grad})\"\n",
    "    \n",
    "    def __neg__(self):\n",
    "        return self * -1\n",
    "    \n",
    "    def __sub__(self, other):\n",
    "        return self + (-other)\n",
    "\n",
    "    def __add__(self, other):\n",
    "        \n",
    "        other = other if isinstance(other, Value) else Value(other)\n",
    "\n",
    "        out = Value(self.data + other.data, (self, other), '+')\n",
    "        \n",
    "        def _backward():\n",
    "            # print(f'    Calling _backward() (+) on {self}')\n",
    "            self.grad += out.grad\n",
    "            other.grad += out.grad\n",
    "        \n",
    "        out._backward = _backward\n",
    "        \n",
    "        return out\n",
    "    \n",
    "    def __radd__(self, other):\n",
    "        return self + other\n",
    "    \n",
    "    def __mul__(self, other):\n",
    "        \n",
    "        other = other if isinstance(other, Value) else Value(other)\n",
    "\n",
    "        out = Value(self.data * other.data, (self, other), '*')\n",
    "        \n",
    "        def _backward():\n",
    "            # print(f'    Calling _backward() (*) on {self}')\n",
    "            self.grad += other.data * out.grad\n",
    "            other.grad += self.data * out.grad\n",
    "        \n",
    "        out._backward = _backward\n",
    "        \n",
    "        return out\n",
    "    \n",
    "    def __rmul__(self, other):\n",
    "        return self * other\n",
    "    \n",
    "    def __pow__(self, other):\n",
    "        \n",
    "        assert isinstance(other, (int, float)), \"Called __pow__ with non-int/float argument!\"\n",
    "        \n",
    "        out = Value(self.data**other, (self, ), f'**{other}')\n",
    "        \n",
    "        def _backward():\n",
    "            # power rule combined with chain rule\n",
    "            self.grad += other * self.data**(other - 1) * out.grad\n",
    "            \n",
    "        out._backward = _backward\n",
    "        \n",
    "        return out\n",
    "    \n",
    "    def __truediv__(self, other):\n",
    "        return self * other**-1\n",
    "     \n",
    "    def tanh(self):\n",
    "\n",
    "        x = self.data\n",
    "        t = (math.exp(2*x) - 1) / (math.exp(2*x) + 1)\n",
    "        out = Value(t, (self, ), 'tanh')\n",
    "        \n",
    "        def _backward():\n",
    "            # print(f'    Calling _backward() on {self}')\n",
    "            self.grad += (1 - t**2) * out.grad\n",
    "        \n",
    "        out._backward = _backward\n",
    "        \n",
    "        return out\n",
    "    \n",
    "    def exp(self):\n",
    "        x = self.data\n",
    "        out = Value(math.exp(x), (self, ), 'exp')\n",
    "        \n",
    "        def _backward():\n",
    "            self.grad += out.data * out.grad # d/dx(e^x) = e^x\n",
    "        \n",
    "        out._backward = _backward\n",
    "        \n",
    "        return out\n",
    "    \n",
    "    def backward(self):\n",
    "    \n",
    "        def topological_sort(v):\n",
    "\n",
    "            ordering = []\n",
    "            visited = set()\n",
    "\n",
    "            def grow_topological(v):\n",
    "                if v not in visited:\n",
    "                    visited.add(v)\n",
    "                    for child in v._prev:\n",
    "                        grow_topological(child)\n",
    "                    ordering.append(v)    \n",
    "\n",
    "            grow_topological(v)\n",
    "\n",
    "            return ordering\n",
    "    \n",
    "        self.grad = 1.0\n",
    "\n",
    "        topo = topological_sort(self)\n",
    "        \n",
    "        for v in reversed(topo):\n",
    "            # print(f'Calling _backward() on {v}')\n",
    "            v._backward()\n",
    "\n",
    "# a.__add__(b)\n",
    "# a + b\n",
    "\n",
    "# a.__mul__(b)\n",
    "# a * b\n",
    "\n",
    "# d = (a.__mul__(b)).__add__(c)\n",
    "# d.label = 'd'\n",
    "\n",
    "# d.data\n",
    "# d._prev\n",
    "# d._op\n",
    "\n",
    "# L = d * f\n",
    "#\n",
    "# (f(x+h) - f(x) / h\n",
    "# ((d+h) * f - d * f) / h\n",
    "# (df + hf - df) / h\n",
    "# hf / h\n",
    "# f\n",
    "# \n",
    "# dL/dd = f\n",
    "# dL/df = d\n",
    "\n",
    "def inline_grad():\n",
    "    \n",
    "    h = 0.0001\n",
    "    \n",
    "    a = Value(2.0, label='a')\n",
    "    b = Value(-3.0, label='b')\n",
    "    c = Value(10.0, label='c')\n",
    "    e = a*b; e.label = 'e'\n",
    "    d = e + c; d.label = 'd'\n",
    "    f = Value(-2.0, label='f')\n",
    "    \n",
    "    L = d * f; L.label = 'L'; L.grad = 1.0\n",
    "    L1 = L.data\n",
    "    \n",
    "    a = Value(2.0, label='a')\n",
    "    b = Value(-3.0, label='b')\n",
    "    c = Value(10.0, label='c')\n",
    "    e = a*b; e.label = 'e'\n",
    "    d = e + c; d.label = 'd'\n",
    "    f = Value(-2.0, label='f')\n",
    "    \n",
    "    L = d * f; L.label = 'L'\n",
    "    L2 = L.data + h\n",
    "    \n",
    "    print((L2 - L1) / h)\n",
    "    \n",
    "inline_grad()"
   ]
  },
  {
   "cell_type": "code",
   "execution_count": 14,
   "id": "91e7c62f-5344-48af-970a-2f350de66a11",
   "metadata": {},
   "outputs": [
    {
     "data": {
      "image/png": "[encoded data removed]",
      "text/plain": [
       "<Figure size 432x288 with 1 Axes>"
      ]
     },
     "metadata": {
      "needs_background": "light"
     },
     "output_type": "display_data"
    }
   ],
   "source": [
    "# tanh() sigmoid function\n",
    "plt.plot(\n",
    "    np.arange(-5,5,0.2),\n",
    "    np.tanh(np.arange(-5,5,0.2))\n",
    ")\n",
    "\n",
    "plt.grid()"
   ]
  },
  {
   "cell_type": "code",
   "execution_count": 44,
   "id": "d3fe2e51-6b7d-4180-a31e-8f1ccfd9f699",
   "metadata": {},
   "outputs": [
    {
     "name": "stdout",
     "output_type": "stream",
     "text": [
      "o=Value(o, data=0.707106777676776, grad=0.0)\n"
     ]
    },
    {
     "data": {
      "text/plain": [
       "-1.5000000148906993"
      ]
     },
     "execution_count": 44,
     "metadata": {},
     "output_type": "execute_result"
    }
   ],
   "source": [
    "# neuron - conceptual model\n",
    "\n",
    "# input x1, x2\n",
    "x1 = Value(2.0, label='x1')\n",
    "x2 = Value(0.0, label='x2')\n",
    "\n",
    "# weights w1, w2\n",
    "w1 = Value(-3.0, label='w1')\n",
    "w2 = Value(1.0, label='w2')\n",
    "\n",
    "# neuron bias\n",
    "# b = Value(6.7, label='b')\n",
    "# b = Value(8.0, label='b')\n",
    "b = Value(6.88137358, label='b')\n",
    "\n",
    "# x1 * w1 + x2 * w2 + b\n",
    "x1w1 = x1 * w1; x1w1.label = 'x1 * w1'\n",
    "x2w2 = x2 * w2; x2w2.label = 'x2 * w2'\n",
    "\n",
    "# x1 * w1 + x2 * w2\n",
    "x1w1x2w2 = x1w1 + x2w2; x1w1x2w2.label = 'x1 * w1 + x2 * w2'\n",
    "# x1 * w1 + x2 * w2 + b\n",
    "n = x1w1x2w2 + b; n.label = 'n'\n",
    "\n",
    "# output (with activation function)\n",
    "o = n.tanh(); o.label = 'o'\n",
    "\n",
    "print(f'o={o}')\n",
    "\n",
    "# backpropagation cycle\n",
    "\n",
    "# o = tanh(n)\n",
    "# do/dn = 1 - tanh(n)**2\n",
    "# do/dn = 1 - o**2\n",
    "\n",
    "o.grad = 1.0\n",
    "n.grad = 1 - o.data**2\n",
    "x1w1x2w2.grad =  n.grad\n",
    "b.grad = n.grad\n",
    "\n",
    "x1w1.grad = x1w1x2w2.grad\n",
    "x2w2.grad = x1w1x2w2.grad\n",
    "\n",
    "x1.grad = w1.data * x1w1.grad\n",
    "w1.grad = x1.data * x1w1.grad\n",
    "\n",
    "x2.grad = w2.data * x2w2.grad\n",
    "w2.grad = x2.data * x2w2.grad\n",
    "\n",
    "x1.grad\n",
    "# w1.grad\n",
    "# x2.grad\n",
    "# w2.grad\n",
    "\n",
    "# automating the backprop step\n",
    "\n",
    "# for v in topo:\n",
    "#     print(f'Value(data={v.data}, grad={v.grad})')"
   ]
  },
  {
   "cell_type": "code",
   "execution_count": 46,
   "id": "93decfbd-3be2-4087-9199-49f179685e2b",
   "metadata": {},
   "outputs": [
    {
     "name": "stdout",
     "output_type": "stream",
     "text": [
      "Value(a, data=3.0, grad=0.0)\n",
      "Value(b, data=6.0, grad=0.0)\n",
      "[Value(a, data=3.0, grad=2.0), Value(b, data=6.0, grad=1.0)]\n"
     ]
    }
   ],
   "source": [
    "# backprop bug - example 1\n",
    "\n",
    "a = Value(3.0, label='a')\n",
    "b = a + a; b.label = 'b'\n",
    "\n",
    "print(a)\n",
    "print(b)\n",
    "\n",
    "b.backward()\n",
    "\n",
    "pp.pprint([a, b]) # Problem: 'a' should have 'grad' of 2.0 (not 1.0)"
   ]
  },
  {
   "cell_type": "code",
   "execution_count": 76,
   "id": "15cd40b8-2ff8-40dc-aba2-a144249e667b",
   "metadata": {},
   "outputs": [
    {
     "name": "stdout",
     "output_type": "stream",
     "text": [
      "Calling _backward() on Value(f, data=-6.0, grad=1.0)\n",
      "Calling _backward() on Value(e, data=1.0, grad=-6.0)\n",
      "Calling _backward() on Value(d, data=-6.0, grad=1.0)\n",
      "Calling _backward() on Value(b, data=3.0, grad=-8.0)\n",
      "Calling _backward() on Value(a, data=-2.0, grad=-3.0)\n",
      "[   Value(a, data=-2.0, grad=-3.0),\n",
      "    Value(b, data=3.0, grad=-8.0),\n",
      "    Value(d, data=-6.0, grad=1.0),\n",
      "    Value(e, data=1.0, grad=-6.0),\n",
      "    Value(f, data=-6.0, grad=1.0)]\n"
     ]
    }
   ],
   "source": [
    "# backprop bug - example 2\n",
    "\n",
    "a = Value(-2.0, label='a')\n",
    "b = Value(3.0, label='b')\n",
    "d = a * b; d.label = 'd'\n",
    "e = a + b; e.label = 'e'\n",
    "f = d * e; f.label = 'f'\n",
    "\n",
    "# d.backward()\n",
    "# e.backward()\n",
    "f.backward()\n",
    "\n",
    "pp.pprint([a, b, d, e, f])"
   ]
  },
  {
   "cell_type": "code",
   "execution_count": 85,
   "id": "4f72d989-32d9-47e7-a4bf-026add67f80f",
   "metadata": {},
   "outputs": [
    {
     "data": {
      "text/plain": [
       "Value(b, data=5.0, grad=0.0)"
      ]
     },
     "execution_count": 85,
     "metadata": {},
     "output_type": "execute_result"
    }
   ],
   "source": [
    "# Supporting `Value` as a box type (i.e., auto-cast to `Value`)\n",
    "a = Value(4.0)\n",
    "b = a + 1.0; b.label = 'b'\n",
    "b"
   ]
  },
  {
   "cell_type": "code",
   "execution_count": 98,
   "id": "e3091760-d8ab-45f3-805a-5e0dd33495e6",
   "metadata": {},
   "outputs": [
    {
     "name": "stdout",
     "output_type": "stream",
     "text": [
      "Calling _backward() on Value(b, data=7.38905609893065, grad=1.0)\n",
      "Calling _backward() on Value(a, data=2.0, grad=7.38905609893065)\n",
      "[   Value(a, data=2.0, grad=7.38905609893065),\n",
      "    Value(b, data=7.38905609893065, grad=1.0)]\n"
     ]
    }
   ],
   "source": [
    "# Implementing e^x\n",
    "\n",
    "a = Value(2.0, label='a')\n",
    "b = a.exp(); b.label = 'b'\n",
    "\n",
    "b.backward()\n",
    "\n",
    "pp.pprint([a,b])"
   ]
  },
  {
   "cell_type": "code",
   "execution_count": 121,
   "id": "3313f4c2-9659-4474-a054-f40e2f3e7881",
   "metadata": {},
   "outputs": [
    {
     "name": "stdout",
     "output_type": "stream",
     "text": [
      "Calling _backward() on Value(b, data=0.6666666666666666, grad=1.0)\n",
      "Calling _backward() on Value(a, data=2.0, grad=0.3333333333333333)\n",
      "Calling _backward() on Value(, data=0.3333333333333333, grad=2.0)\n"
     ]
    },
    {
     "data": {
      "text/plain": [
       "Value(b, data=0.6666666666666666, grad=1.0)"
      ]
     },
     "execution_count": 121,
     "metadata": {},
     "output_type": "execute_result"
    }
   ],
   "source": [
    "# Implementing division\n",
    "\n",
    "# a / b\n",
    "# a * (1/b)\n",
    "# a * (b^-1)\n",
    "\n",
    "# Redefine division in terms of exponentiation to a negative power\n",
    "\n",
    "# Implementing __pow__\n",
    "\n",
    "a = Value(2.0, label='a')\n",
    "b = a ** 3.0; b.label = 'b'\n",
    "# b.backward()\n",
    "# b\n",
    "\n",
    "# Implementing __neg__\n",
    "\n",
    "a = Value(2.0, label='a')\n",
    "b = -a; b.label = 'b'\n",
    "# b.backward()\n",
    "# b\n",
    "\n",
    "# Implementing __sub__\n",
    "\n",
    "a = Value(2.0, label='a')\n",
    "b = a - 3.0; b.label = 'b'\n",
    "# b.backward()\n",
    "# b\n",
    "\n",
    "# Implementing __realdiv__\n",
    "\n",
    "a = Value(2.0, label='a')\n",
    "b = a / 3.0; b.label = 'b'\n",
    "b.backward()\n",
    "b"
   ]
  },
  {
   "cell_type": "code",
   "execution_count": 125,
   "id": "682bec5b-3ce0-457b-bcca-89047b23f995",
   "metadata": {},
   "outputs": [
    {
     "data": {
      "text/plain": [
       "Value(, data=0.9999092042625952, grad=0.0)"
      ]
     },
     "execution_count": 125,
     "metadata": {},
     "output_type": "execute_result"
    }
   ],
   "source": [
    "# Manual expansion of tanh()\n",
    "\n",
    "# tanh(x) = (e^2x - 1) / (e^2x + 1)\n",
    "\n",
    "x = Value(5.0, label='x')\n",
    "two_x = x * 2.0\n",
    "e2x = two_x.exp()\n",
    "e2x_minus_one = e2x - 1\n",
    "e2x_plus_one = e2x + 1\n",
    "n = e2x_minus_one / e2x_plus_one\n",
    "\n",
    "n"
   ]
  },
  {
   "cell_type": "code",
   "execution_count": 129,
   "id": "0624c688-d793-40aa-885c-b057fd201a87",
   "metadata": {},
   "outputs": [],
   "source": [
    "# Aside: Constructing an expression tree with PyTorch"
   ]
  },
  {
   "cell_type": "code",
   "execution_count": 133,
   "id": "7df98062-b760-4290-bc10-9194e757921e",
   "metadata": {},
   "outputs": [
    {
     "name": "stdout",
     "output_type": "stream",
     "text": [
      "0.7071066904050358\n",
      "---\n",
      "x1 -1.5000003851533106\n",
      "w1 1.0000002567688737\n",
      "x2 0.5000001283844369\n",
      "w2 0.0\n"
     ]
    }
   ],
   "source": [
    "x1 = torch.Tensor([2.0]).double(); x1.requires_grad = True\n",
    "x2 = torch.Tensor([0.0]).double(); x2.requires_grad = True\n",
    "w1 = torch.Tensor([-3.0]).double(); w1.requires_grad = True\n",
    "w2 = torch.Tensor([1.0]).double(); w2.requires_grad = True\n",
    "\n",
    "b = torch.Tensor([6.8813735870195432]).double();\n",
    "b.requires_grad = True\n",
    "\n",
    "n = x1*w1 + x2*w2 + b\n",
    "o = torch.tanh(n)\n",
    "\n",
    "print(o.data.item())\n",
    "o.backward()\n",
    "\n",
    "print('---')\n",
    "print('x1', x1.grad.item())\n",
    "print('w1', w1.grad.item())\n",
    "print('x2', x2.grad.item())\n",
    "print('w2', w2.grad.item())"
   ]
  },
  {
   "cell_type": "code",
   "execution_count": 136,
   "id": "9edd07eb-cd87-40cf-8bee-0ccefb80749c",
   "metadata": {},
   "outputs": [
    {
     "data": {
      "text/plain": [
       "tensor([[1., 2., 3.],\n",
       "        [4., 5., 6.]])"
      ]
     },
     "execution_count": 136,
     "metadata": {},
     "output_type": "execute_result"
    }
   ],
   "source": [
    "torch.Tensor([[1,2,3], [4,5,6]])"
   ]
  },
  {
   "cell_type": "code",
   "execution_count": 140,
   "id": "7f523eec-f986-4b96-af77-4958c207ea57",
   "metadata": {},
   "outputs": [
    {
     "name": "stdout",
     "output_type": "stream",
     "text": [
      "torch.float32\n",
      "torch.float64\n"
     ]
    }
   ],
   "source": [
    "print(torch.Tensor([2.0]).dtype)\n",
    "print(torch.Tensor([2.0]).double().dtype)"
   ]
  },
  {
   "cell_type": "code",
   "execution_count": 142,
   "id": "97b9e87b-16cf-48bf-b77b-6a718f5c10dc",
   "metadata": {},
   "outputs": [
    {
     "data": {
      "text/plain": [
       "0.7071066904050358"
      ]
     },
     "execution_count": 142,
     "metadata": {},
     "output_type": "execute_result"
    }
   ],
   "source": [
    "o.item()"
   ]
  },
  {
   "cell_type": "code",
   "execution_count": 144,
   "id": "f0f3e3e1-7c09-4a82-9aef-180d8b5e1395",
   "metadata": {},
   "outputs": [
    {
     "data": {
      "text/plain": [
       "0.7071066904050358"
      ]
     },
     "execution_count": 144,
     "metadata": {},
     "output_type": "execute_result"
    }
   ],
   "source": [
    "o.data.item()"
   ]
  },
  {
   "cell_type": "code",
   "execution_count": 150,
   "id": "78f9c647-9263-4f67-bca5-be6986b26988",
   "metadata": {},
   "outputs": [
    {
     "data": {
      "text/plain": [
       "-1.5000003851533106"
      ]
     },
     "execution_count": 150,
     "metadata": {},
     "output_type": "execute_result"
    }
   ],
   "source": [
    "x1.grad.item()"
   ]
  },
  {
   "cell_type": "code",
   "execution_count": 221,
   "id": "464e1958-327d-473e-988c-aef59f64c78f",
   "metadata": {},
   "outputs": [],
   "source": [
    "# Constructing a neural net (built upon our expression graphs)\n",
    "\n",
    "class Neuron:\n",
    "    \n",
    "    def __init__(self, num_inputs):\n",
    "        \n",
    "        # Note that our __init__ doesn't offer args for\n",
    "        # weight or bias\n",
    "        \n",
    "        self.w = [Value(random.uniform(-1,1)) for _ in range(num_inputs)]\n",
    "\n",
    "        self.b = Value(random.uniform(-1,1))\n",
    "        \n",
    "    def __call__(self, x):\n",
    "\n",
    "        # self.w * x + self.b\n",
    "        \n",
    "        # Supports an arbitrary-length vector as the neuron's input\n",
    "        \n",
    "        # Note that we can pass our neuron's bias as the `start` arg for sum()\n",
    "        \n",
    "        # activation = sum(w_i * x_i for w_i, x_i in zip(self.w, x)) + self.b\n",
    "        activation = sum((w_i * x_i for w_i, x_i in zip(self.w, x)), self.b)\n",
    "        \n",
    "        # Using tanh() as our simple activation function for the neuron\n",
    "        \n",
    "        output = activation.tanh()\n",
    "        \n",
    "        return output\n",
    "    \n",
    "    def parameters(self):\n",
    "        return self.w + [self.b]"
   ]
  },
  {
   "cell_type": "code",
   "execution_count": 222,
   "id": "9796cde7-f9e0-49f9-ae09-e7ec5206644e",
   "metadata": {},
   "outputs": [],
   "source": [
    "# Create a 2-input neuron\n",
    "n = Neuron(2)\n",
    "\n",
    "# Pass a sample input to our neuron, storing the output\n",
    "o = n([2.0, 3.0])"
   ]
  },
  {
   "cell_type": "code",
   "execution_count": 246,
   "id": "6bc41575-0b7f-4319-82a3-137a9e12aaa0",
   "metadata": {},
   "outputs": [],
   "source": [
    "# Grouping multiple neurons into a single layer\n",
    "\n",
    "class Layer:\n",
    "    \n",
    "    def __init__(self, num_inputs, num_outputs):\n",
    "        \n",
    "        # Each output will exist as a single neuron, which takes\n",
    "        # `num_inputs` inputs;\n",
    "        \n",
    "        self.neurons = [Neuron(num_inputs) for _ in range(num_outputs)]\n",
    "        \n",
    "    def __call__(self, x):\n",
    "        \n",
    "        # Calling our neurons with a vector input yields a vector output\n",
    "        # of the same dimension; we'll convert unary vectors to scalars\n",
    "        \n",
    "        outputs = [n(x) for n in self.neurons]\n",
    "        \n",
    "        return outputs[0] if len(outputs) == 1 else outputs\n",
    "    \n",
    "    def parameters(self):\n",
    "        # params = []\n",
    "        # for neuron in self.neurons:\n",
    "        #     params.extend(neuron.parameters())\n",
    "        # return params\n",
    "        return [p for neuron in self.neurons for p in neuron.parameters()]"
   ]
  },
  {
   "cell_type": "code",
   "execution_count": 328,
   "id": "0221cdcc-b7ef-4f7d-befe-4c8b309f7604",
   "metadata": {},
   "outputs": [
    {
     "data": {
      "text/plain": [
       "[Value(, data=0.6404309974042753, grad=0.0),\n",
       " Value(, data=-0.7931884211635079, grad=0.0),\n",
       " Value(, data=-0.9829488861068082, grad=0.0)]"
      ]
     },
     "execution_count": 328,
     "metadata": {},
     "output_type": "execute_result"
    }
   ],
   "source": [
    "# Create a layer with 3 2-input neurons\n",
    "L = Layer(2, 3)\n",
    "\n",
    "# Pass sample inputs into our layer, storing the outputs of its neurons\n",
    "L([2.0, 3.0])"
   ]
  },
  {
   "cell_type": "code",
   "execution_count": 355,
   "id": "8b808d6a-d702-4dd7-b4a4-be21e3d96580",
   "metadata": {},
   "outputs": [],
   "source": [
    "# Combining multiple layers into a multi-layer perceptron (MLP)\n",
    "\n",
    "class MLP:\n",
    "    \n",
    "    def __init__(self, num_inputs, num_outputs):\n",
    "        \n",
    "        # Layers appear in sequence, meaning that one layer's output count\n",
    "        # is equivalent to the next layer's input count; any two neighboring\n",
    "        # values in `num_outputs` tells us the shape of a corresponding layer\n",
    "        #\n",
    "        # Based on this, we can calculate the total number of neurons in\n",
    "        # our perceptron:\n",
    "        # \n",
    "        #   The first layer (i=0) receives `num_inputs` inputs and\n",
    "        #   yields `num_outputs[0]` outputs\n",
    "        # \n",
    "        #   The i-th layer (i>0) receives `num_outputs[i-1]` inputs and\n",
    "        #   yields `num_outputs[i]` outputs\n",
    "        #\n",
    "        # We can generalize this by combining `num_inputs` and `num_outputs`\n",
    "        # into a single addressable lookup list:\n",
    "        \n",
    "        sizes = [num_inputs] + num_outputs\n",
    "        \n",
    "        lookup = range(len(num_outputs))\n",
    "        \n",
    "        self.layers = [Layer(sizes[i], sizes[i+1]) for i in lookup]\n",
    "        \n",
    "    def __call__(self, x):\n",
    "        \n",
    "        # `x` contains a `num_inputs`-size input vector; we will pass `x`\n",
    "        # through each of our percetron's layers, mutating it with each pass\n",
    "        \n",
    "        for layer in self.layers:\n",
    "            x = layer(x)\n",
    "            \n",
    "        # Return the final result (output)\n",
    "            \n",
    "        return x\n",
    "    \n",
    "    def parameters(self):\n",
    "        return [p for layer in self.layers for p in layer.parameters()]"
   ]
  },
  {
   "cell_type": "code",
   "execution_count": 451,
   "id": "715654f7-6bab-4b99-a5c0-2a1d9a8fe9ac",
   "metadata": {},
   "outputs": [
    {
     "data": {
      "text/plain": [
       "Value(, data=-0.024465972508511676, grad=0.0)"
      ]
     },
     "execution_count": 451,
     "metadata": {},
     "output_type": "execute_result"
    }
   ],
   "source": [
    "P = MLP(3, [4, 4, 1])\n",
    "\n",
    "P([2.0, 3.0, -1.0])"
   ]
  },
  {
   "cell_type": "code",
   "execution_count": 268,
   "id": "d28a0db2-3005-4577-92e9-0e7ddb3be82e",
   "metadata": {},
   "outputs": [],
   "source": [
    "# Convenience methods - collecting parameters of our instances\n",
    "\n",
    "# pp.pprint(n.parameters())\n",
    "\n",
    "# pp.pprint(L.parameters())\n",
    "\n",
    "# pp.pprint(P.parameters())"
   ]
  },
  {
   "cell_type": "code",
   "execution_count": 452,
   "id": "9c89146e-84b5-480b-9c2b-5a1ada9b9811",
   "metadata": {},
   "outputs": [],
   "source": [
    "# Producing some predictions from our (untrained) MLP\n",
    "\n",
    "# We'll pass each of these sample inputs to our perceptron\n",
    "\n",
    "# 1. FORWARD PASS (no batching)\n",
    "\n",
    "xs = [\n",
    "    [2.0, 3.0, -1.0],\n",
    "    [3.0, -1.0, 0.5],\n",
    "    [0.5, 1.0, 1.0],\n",
    "    [1.0, 1.0, -1.0],\n",
    "]\n",
    "\n",
    "# Each sample input has one desired output that we want our MLP to predict\n",
    "\n",
    "ys = [1.0, -1.0, -1.0, 1.0] # desired predictions"
   ]
  },
  {
   "cell_type": "code",
   "execution_count": 434,
   "id": "12f1f326-9f6e-4b31-bcd0-02db8d91d77b",
   "metadata": {},
   "outputs": [],
   "source": [
    "# Below, `y_predicted` contains 1 prediction (value) for each input in `xs` \n",
    "\n",
    "y_predicted = [P(x) for x in xs]"
   ]
  },
  {
   "cell_type": "code",
   "execution_count": 435,
   "id": "6a88cc40-1817-4966-babd-a424bfe5380b",
   "metadata": {},
   "outputs": [
    {
     "data": {
      "text/plain": [
       "Value(, data=0.010921190190459305, grad=0.0)"
      ]
     },
     "execution_count": 435,
     "metadata": {},
     "output_type": "execute_result"
    }
   ],
   "source": [
    "# Calculating a single loss value from our outputs, using mean-squared error\n",
    "\n",
    "# Each value in `y_predicted` corresponds to a certain input in `xs`, so\n",
    "# we can pair them together and aggregate from there by calculating the MSE\n",
    "\n",
    "# 2. RECALCULATE LOSS\n",
    "\n",
    "loss = sum([(y_output - y_ground_truth)**2 for y_ground_truth, y_output in zip(ys, y_predicted)])\n",
    "loss"
   ]
  },
  {
   "cell_type": "code",
   "execution_count": 436,
   "id": "0a4fc974-ec48-406d-acba-ac229c363e5c",
   "metadata": {},
   "outputs": [],
   "source": [
    "# 3. BACKPROPAGATE OUR GRADIENTS\n",
    "\n",
    "loss.backward()"
   ]
  },
  {
   "cell_type": "code",
   "execution_count": 437,
   "id": "f69b1947-500f-41b8-8516-96cf2e59ac0d",
   "metadata": {},
   "outputs": [],
   "source": [
    "# Manually adjusting the parameters of our perceptron to lower the loss\n",
    "\n",
    "# 4. STEP IN THE OPPOSITE DIRECTION OF OUR GRADIENT\n",
    "\n",
    "learning_rate = 0.1\n",
    "\n",
    "for p in P.parameters():\n",
    "    \n",
    "    # Note that `p.grad` is essentially a vector pointing in a direction that\n",
    "    # would maximize the (local) loss function; we're looking to minimize the\n",
    "    # loss (locally), so our step must occur in the opposite direction;\n",
    "    \n",
    "    p.data += -learning_rate * p.grad\n"
   ]
  },
  {
   "cell_type": "code",
   "execution_count": 439,
   "id": "489aa1bc-7bb9-4ca2-8cd7-408defe3133b",
   "metadata": {},
   "outputs": [
    {
     "data": {
      "text/plain": [
       "[Value(, data=0.9954147248514116, grad=-0.009170550297176838),\n",
       " Value(, data=-0.9029302449394205, grad=0.19413951012115893),\n",
       " Value(, data=-0.9618723370641932, grad=0.07625532587161366),\n",
       " Value(, data=0.9951102746699172, grad=-0.009779450660165612)]"
      ]
     },
     "execution_count": 439,
     "metadata": {},
     "output_type": "execute_result"
    }
   ],
   "source": [
    "# P.layers[0].neurons[0].w[0].grad\n",
    "# P.layers[0].neurons[0].w[0].data\n",
    "\n",
    "# 5. CHECK OUR PREDICTIONS\n",
    "\n",
    "y_predicted"
   ]
  },
  {
   "cell_type": "code",
   "execution_count": 453,
   "id": "9d9e9ebf-1be4-4134-a4a6-d21cc183affe",
   "metadata": {},
   "outputs": [
    {
     "name": "stdout",
     "output_type": "stream",
     "text": [
      "i=0: loss=Value(, data=5.688251884733565, grad=1.0)\n",
      "i=1: loss=Value(, data=3.445688461356, grad=1.0)\n",
      "i=2: loss=Value(, data=3.132410739492249, grad=1.0)\n",
      "i=3: loss=Value(, data=4.5444802681713465, grad=1.0)\n",
      "i=4: loss=Value(, data=4.520146449394031, grad=1.0)\n",
      "i=5: loss=Value(, data=2.6368183575498714, grad=1.0)\n",
      "i=6: loss=Value(, data=1.6168820674570625, grad=1.0)\n",
      "i=7: loss=Value(, data=0.311245924838963, grad=1.0)\n",
      "i=8: loss=Value(, data=0.13387625665554292, grad=1.0)\n",
      "i=9: loss=Value(, data=0.10587913540437861, grad=1.0)\n",
      "i=10: loss=Value(, data=0.08920937422491769, grad=1.0)\n",
      "i=11: loss=Value(, data=0.07746361105516852, grad=1.0)\n",
      "i=12: loss=Value(, data=0.06854403735436906, grad=1.0)\n",
      "i=13: loss=Value(, data=0.061475399638620025, grad=1.0)\n",
      "i=14: loss=Value(, data=0.055712543446103074, grad=1.0)\n",
      "i=15: loss=Value(, data=0.05091569492395, grad=1.0)\n",
      "i=16: loss=Value(, data=0.046857756651258894, grad=1.0)\n",
      "i=17: loss=Value(, data=0.0433794217409787, grad=1.0)\n",
      "i=18: loss=Value(, data=0.04036488312340836, grad=1.0)\n",
      "i=19: loss=Value(, data=0.03772759706233382, grad=1.0)\n"
     ]
    }
   ],
   "source": [
    "# Writing out the training loop\n",
    "\n",
    "training_cycles = 20\n",
    "learning_rate = 0.1\n",
    "\n",
    "for i in range(training_cycles):\n",
    "\n",
    "    # forward pass\n",
    "    y_predicted = [P(x) for x in xs]\n",
    "\n",
    "    # recalculate loss\n",
    "    loss = sum([(y_output - y_ground_truth)**2 for y_ground_truth, y_output in zip(ys, y_predicted)])\n",
    "\n",
    "    # backward pass\n",
    "    \n",
    "    # COMMON BUG: Forgetting to zero-out your gradients before\n",
    "    # running the next backward pass\n",
    "    \n",
    "    for p in P.parameters():\n",
    "        p.grad = 0\n",
    "    \n",
    "    loss.backward()\n",
    "\n",
    "    # gradient updates\n",
    "    for p in P.parameters():\n",
    "        p.data += -learning_rate * p.grad\n",
    "        \n",
    "    # print current loss\n",
    "    print(f'i={i}: loss={loss}')\n"
   ]
  }
 ],
 "metadata": {
  "kernelspec": {
   "display_name": "Python 3 (ipykernel)",
   "language": "python",
   "name": "python3"
  },
  "language_info": {
   "codemirror_mode": {
    "name": "ipython",
    "version": 3
   },
   "file_extension": ".py",
   "mimetype": "text/x-python",
   "name": "python",
   "nbconvert_exporter": "python",
   "pygments_lexer": "ipython3",
   "version": "3.9.12"
  }
 },
 "nbformat": 4,
 "nbformat_minor": 5
}
